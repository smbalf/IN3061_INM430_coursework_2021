{
 "cells": [
  {
   "cell_type": "code",
   "execution_count": 1,
   "metadata": {},
   "outputs": [],
   "source": [
    "import pandas as pd\n",
    "\n",
    "car_csv = pd.read_csv('accord_sedan.csv')\n",
    "\n",
    "df = pd.DataFrame(car_csv)"
   ]
  },
  {
   "cell_type": "code",
   "execution_count": null,
   "metadata": {},
   "outputs": [],
   "source": [
    "df"
   ]
  },
  {
   "cell_type": "code",
   "execution_count": null,
   "metadata": {},
   "outputs": [],
   "source": [
    "df.plot.scatter(x='price', y='mileage')"
   ]
  },
  {
   "cell_type": "code",
   "execution_count": null,
   "metadata": {},
   "outputs": [],
   "source": [
    "df.plot.hist(y='mileage')"
   ]
  },
  {
   "cell_type": "code",
   "execution_count": null,
   "metadata": {},
   "outputs": [],
   "source": [
    "df.plot.hist(y='price')"
   ]
  },
  {
   "cell_type": "code",
   "execution_count": null,
   "metadata": {},
   "outputs": [],
   "source": [
    "df.boxplot('price')"
   ]
  },
  {
   "cell_type": "code",
   "execution_count": null,
   "metadata": {},
   "outputs": [],
   "source": [
    "df.boxplot('mileage')"
   ]
  },
  {
   "cell_type": "code",
   "execution_count": 11,
   "metadata": {},
   "outputs": [],
   "source": [
    "df['isOutlierPrice'] = 0\n",
    "df['isOutlierMileage'] = 0"
   ]
  },
  {
   "cell_type": "code",
   "execution_count": 17,
   "metadata": {},
   "outputs": [],
   "source": [
    "df.price.describe()\n",
    "mean = 12084.242206\n",
    "std = 2061.430043\n"
   ]
  },
  {
   "cell_type": "code",
   "execution_count": 31,
   "metadata": {},
   "outputs": [
    {
     "name": "stdout",
     "output_type": "stream",
     "text": [
      "14995\n",
      "8999\n",
      "14590\n",
      "16120\n",
      "9880\n",
      "14900\n",
      "15991\n",
      "9995\n",
      "9968\n",
      "8999\n",
      "7995\n",
      "9998\n",
      "9488\n",
      "8495\n",
      "9994\n",
      "8991\n",
      "15995\n",
      "15991\n",
      "9692\n",
      "9488\n",
      "9878\n",
      "14888\n",
      "7900\n",
      "15995\n",
      "14999\n",
      "9495\n",
      "16990\n",
      "8500\n",
      "16595\n",
      "14995\n",
      "8980\n",
      "9000\n",
      "9995\n",
      "14971\n",
      "15995\n",
      "7695\n",
      "7991\n",
      "8998\n",
      "8995\n",
      "9686\n",
      "8988\n",
      "8880\n",
      "7991\n",
      "14995\n",
      "15588\n",
      "8950\n",
      "16988\n",
      "9985\n",
      "8992\n",
      "14995\n",
      "8980\n",
      "15977\n",
      "14991\n",
      "7995\n",
      "7676\n",
      "9870\n",
      "17591\n",
      "9908\n",
      "9496\n",
      "8800\n",
      "14899\n",
      "14989\n",
      "7500\n",
      "14840\n",
      "8991\n",
      "16995\n",
      "8991\n",
      "8350\n",
      "9100\n",
      "9888\n",
      "9500\n",
      "14450\n",
      "16420\n",
      "8990\n",
      "6900\n",
      "8995\n",
      "9991\n",
      "14991\n",
      "7995\n",
      "9998\n",
      "14990\n",
      "14995\n",
      "9995\n",
      "17975\n",
      "8990\n",
      "14650\n",
      "9998\n",
      "8995\n",
      "18988\n",
      "8950\n",
      "9975\n",
      "15995\n",
      "9690\n",
      "8999\n",
      "9299\n",
      "9999\n",
      "15000\n",
      "15995\n",
      "9995\n",
      "16950\n",
      "16900\n",
      "8998\n",
      "9888\n",
      "14489\n",
      "9855\n",
      "9995\n",
      "9137\n",
      "15596\n",
      "9989\n",
      "9991\n",
      "8495\n",
      "14995\n",
      "8991\n",
      "9495\n",
      "14995\n",
      "18995\n",
      "16995\n",
      "14995\n",
      "9995\n",
      "8959\n",
      "9500\n",
      "9988\n",
      "9750\n",
      "8900\n",
      "9200\n",
      "9900\n",
      "16000\n",
      "14700\n",
      "14755\n",
      "number of outliers: 129\n"
     ]
    }
   ],
   "source": [
    "lower_bound = mean-std\n",
    "upper_bound = mean+std\n",
    "\n",
    "x=0\n",
    "for price in df.price:\n",
    "    if lower_bound < price < upper_bound:\n",
    "        continue\n",
    "    else:\n",
    "        print(price)\n",
    "        x+=1\n",
    "print(f'number of outliers: {x}')\n",
    "\n",
    "        "
   ]
  },
  {
   "cell_type": "code",
   "execution_count": 35,
   "metadata": {},
   "outputs": [
    {
     "name": "stdout",
     "output_type": "stream",
     "text": [
      "     price  mileage  year trim engine transmission  isOutlierPrice  \\\n",
      "6     8999   126150  2006   lx  4 Cyl    Automatic               0   \n",
      "15    9880   107290  2006   ex  6 Cyl    Automatic               0   \n",
      "30    9995   121435  2006   ex  6 Cyl    Automatic               0   \n",
      "32    9968   121896  2006   ex  6 Cyl    Automatic               0   \n",
      "38    8999   133721  2006   lx  4 Cyl    Automatic               0   \n",
      "..     ...      ...   ...  ...    ...          ...             ...   \n",
      "398   9988   110129  2006   ex  4 Cyl    Automatic               0   \n",
      "403   9750   103457  2006   ex  6 Cyl    Automatic               0   \n",
      "408   8900    92952  2006   lx  4 Cyl       Manual               0   \n",
      "409   9200   122986  2006   ex  4 Cyl       Manual               0   \n",
      "411   9900    97721  2006   lx  4 Cyl    Automatic               0   \n",
      "\n",
      "     isOutlierMileage  \n",
      "6                   0  \n",
      "15                  0  \n",
      "30                  0  \n",
      "32                  0  \n",
      "38                  0  \n",
      "..                ...  \n",
      "398                 0  \n",
      "403                 0  \n",
      "408                 0  \n",
      "409                 0  \n",
      "411                 0  \n",
      "\n",
      "[80 rows x 8 columns]\n"
     ]
    }
   ],
   "source": [
    "print(df[df['price'] <= lower_bound])"
   ]
  }
 ],
 "metadata": {
  "kernelspec": {
   "display_name": "Python 3.10.4 64-bit",
   "language": "python",
   "name": "python3"
  },
  "language_info": {
   "codemirror_mode": {
    "name": "ipython",
    "version": 3
   },
   "file_extension": ".py",
   "mimetype": "text/x-python",
   "name": "python",
   "nbconvert_exporter": "python",
   "pygments_lexer": "ipython3",
   "version": "3.10.4"
  },
  "orig_nbformat": 4,
  "vscode": {
   "interpreter": {
    "hash": "06b0aa4c7316fd05e1fbc35be8f0e5fb9e74ae2fa97553ccced32907b2c022cf"
   }
  }
 },
 "nbformat": 4,
 "nbformat_minor": 2
}
